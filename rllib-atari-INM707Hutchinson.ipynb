{
 "cells": [
  {
   "cell_type": "markdown",
   "metadata": {},
   "source": [
    "# Ray RLLib and ATARI"
   ]
  },
  {
   "cell_type": "markdown",
   "metadata": {},
   "source": [
    "This file applies PPO from ray rllib to the pong environment. The code is based upon the code in lab 9."
   ]
  },
  {
   "cell_type": "code",
   "execution_count": null,
   "metadata": {},
   "outputs": [],
   "source": [
    "from ray import tune\n",
    "import ray\n",
    "import ray.rllib.agents.ppo as ppo\n",
    "import numpy as np\n",
    "import matplotlib.pyplot as plt"
   ]
  },
  {
   "cell_type": "code",
   "execution_count": null,
   "metadata": {},
   "outputs": [],
   "source": [
    "config = ppo.DEFAULT_CONFIG.copy() # using default configs for PPO\n",
    "config[\"env\"] = \"Pong-ramDeterministic-v4\" # pong environment\n",
    "\n",
    "config[\"framework\"] = \"torch\"\n",
    "config[\"num_gpus\"] = 0"
   ]
  },
  {
   "cell_type": "code",
   "execution_count": null,
   "metadata": {},
   "outputs": [],
   "source": [
    "trainer = ppo.PPOTrainer(config=config)"
   ]
  },
  {
   "cell_type": "code",
   "execution_count": null,
   "metadata": {},
   "outputs": [],
   "source": [
    "rewards = []\n",
    "\n",
    "for i in range(500):\n",
    "    # Perform one iteration of training the policy with PPO\n",
    "    result = trainer.train()\n",
    "\n",
    "    print(result['episode_reward_mean'])\n",
    "    rewards.append(result['episode_reward_mean']) # save episode reward mean\n",
    "\n",
    "    if i % 10 == 0: # checkpoint every 10 episodes\n",
    "        checkpoint = trainer.save()\n",
    "        print(f\"Checkpoint: {checkpoint}\")"
   ]
  },
  {
   "cell_type": "code",
   "execution_count": null,
   "metadata": {},
   "outputs": [],
   "source": [
    "# plotting results\n",
    "fig, ax = plt.subplots(figsize=(5*1.61, 5))\n",
    "ax.plot(results)\n",
    "ax.set_xlim(0,len(results)+10)\n",
    "ax.set_xlabel(\"Episode\", fontsize=12)\n",
    "ax.set_ylabel(\"Reward\", fontsize=12)\n",
    "ax.grid()"
   ]
  }
 ],
 "metadata": {
  "interpreter": {
   "hash": "08862e44227d36fa36924244a352dfacc6ee66240882cb9e3f591415d0f56682"
  },
  "kernelspec": {
   "display_name": "Python 3 (ipykernel)",
   "language": "python",
   "name": "python3"
  },
  "language_info": {
   "codemirror_mode": {
    "name": "ipython",
    "version": 3
   },
   "file_extension": ".py",
   "mimetype": "text/x-python",
   "name": "python",
   "nbconvert_exporter": "python",
   "pygments_lexer": "ipython3",
   "version": "3.8.12"
  }
 },
 "nbformat": 4,
 "nbformat_minor": 2
}
